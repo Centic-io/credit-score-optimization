{
 "cells": [
  {
   "cell_type": "code",
   "execution_count": 18,
   "id": "82b39349-cbbb-4e39-86c2-cfc9e397d023",
   "metadata": {},
   "outputs": [
    {
     "name": "stderr",
     "output_type": "stream",
     "text": [
      "2024-09-25 10:17:55.078854: I tensorflow/core/util/port.cc:113] oneDNN custom operations are on. You may see slightly different numerical results due to floating-point round-off errors from different computation orders. To turn them off, set the environment variable `TF_ENABLE_ONEDNN_OPTS=0`.\n",
      "2024-09-25 10:17:55.123598: I external/local_tsl/tsl/cuda/cudart_stub.cc:31] Could not find cuda drivers on your machine, GPU will not be used.\n",
      "2024-09-25 10:17:55.349807: E external/local_xla/xla/stream_executor/cuda/cuda_dnn.cc:9261] Unable to register cuDNN factory: Attempting to register factory for plugin cuDNN when one has already been registered\n",
      "2024-09-25 10:17:55.349875: E external/local_xla/xla/stream_executor/cuda/cuda_fft.cc:607] Unable to register cuFFT factory: Attempting to register factory for plugin cuFFT when one has already been registered\n",
      "2024-09-25 10:17:55.386814: E external/local_xla/xla/stream_executor/cuda/cuda_blas.cc:1515] Unable to register cuBLAS factory: Attempting to register factory for plugin cuBLAS when one has already been registered\n",
      "2024-09-25 10:17:55.469118: I external/local_tsl/tsl/cuda/cudart_stub.cc:31] Could not find cuda drivers on your machine, GPU will not be used.\n",
      "2024-09-25 10:17:55.471117: I tensorflow/core/platform/cpu_feature_guard.cc:182] This TensorFlow binary is optimized to use available CPU instructions in performance-critical operations.\n",
      "To enable the following instructions: AVX2 AVX512F AVX512_VNNI FMA, in other operations, rebuild TensorFlow with the appropriate compiler flags.\n",
      "2024-09-25 10:17:56.937018: W tensorflow/compiler/tf2tensorrt/utils/py_utils.cc:38] TF-TRT Warning: Could not find TensorRT\n"
     ]
    }
   ],
   "source": [
    "from sklearn.metrics import accuracy_score\n",
    "import numpy as np\n",
    "from src.utils.detect_outlier import *\n",
    "from sklearn.model_selection import train_test_split\n",
    "from src.utils.reporting import reporting\n",
    "from src.utils.evaluate import *\n",
    "from src.utils.labeling_from_score import labeling\n",
    "from src.models.adam import Adam\n",
    "from src.models.ga import GeneticAlgorithm\n",
    "from src.models.mlp import MLP\n",
    "from src.models.gradient_descent import GradientDescent\n",
    "\n",
    "df_normalized = read_data(\"/home/bang/Desktop/works/credit-score-optimization/src/data/Lending-Data-Ethereum-Labeled.csv\")\n",
    "df_normalized.dropna(inplace=True)\n",
    "x = np.array(\n",
    "    df_normalized[\n",
    "        [\n",
    "            \"totalAsset\",\n",
    "            \"averageTotalAsset\",\n",
    "            \"frequencyMountOfTransaction\",\n",
    "            \"borrow_per_balance\",\n",
    "            \"deposit_per_asset\",\n",
    "            \"borrow_per_deposit\",\n",
    "            \"totalValueOfLiquidation\",\n",
    "            \"numberOfLiquidation\",\n",
    "            \"frequencyOfTransaction\",\n",
    "            \"frequencyOfDappTransactions\",\n",
    "            \"numberOfInteractedDapps\",\n",
    "            \"typesOfInteractedDapps\",\n",
    "            \"numberOfReputableDapps\",\n",
    "            \"age\",\n",
    "        ]\n",
    "    ].values\n",
    ")\n",
    "first_y = df_normalized[\"1st_label\"].values\n",
    "second_y = df_normalized[\"2nd_label\"].values"
   ]
  },
  {
   "cell_type": "code",
   "execution_count": 2,
   "id": "10e1d626-bd4f-4e85-8cac-2b4b35e86c90",
   "metadata": {},
   "outputs": [
    {
     "name": "stdout",
     "output_type": "stream",
     "text": [
      "------START EXECUTE ADAM------\n",
      "new learning weights: [ 0.28831839 -0.02522728  0.44921171 -0.00379402 -0.03266746  0.01199779\n",
      "  0.15732845  0.45607558 -0.34679625 -0.14096553 -0.10478706  0.29617734\n",
      "  0.01866625  0.00262995]\n",
      "new learning weights: [ 0.46132776 -0.22450654  0.56366778  0.03890998 -0.00195388  0.04399143\n",
      "  0.0677003   0.34283823 -0.18811583  0.27204411  0.01405099 -0.28284449\n",
      "  0.15425749  0.00988673]\n",
      "new learning weights: [ 0.11709992  0.15828031  0.57421334  0.19319486 -0.00278008  0.00641121\n",
      " -0.16296775  0.47812641 -0.16085926 -0.19284575  0.29745772 -0.08433475\n",
      "  0.02575135 -0.00633983]\n",
      "new learning weights: [ 0.34550813 -0.10334513  0.01300029  0.2016325  -0.00402974 -0.00865244\n",
      "  0.38684648  0.10234993 -0.03417266  0.24559038 -0.32343072  0.10806971\n",
      "  0.00450727  0.00113688]\n",
      "------EXECUTE IN 51.14498782157898------\n"
     ]
    }
   ],
   "source": [
    "adam = Adam(x, first_y, second_y)\n",
    "adam.run()"
   ]
  },
  {
   "cell_type": "code",
   "execution_count": 23,
   "id": "c4713fc8-cd8e-430a-b19c-eb8c3e341ef1",
   "metadata": {},
   "outputs": [
    {
     "name": "stdout",
     "output_type": "stream",
     "text": [
      "------START EXECUTE GD------\n",
      "new learning weights: [ 2.85277811  2.38681291 -0.18084599 -0.40117354 -2.10683247 -0.12372488\n",
      "  0.72809416  1.13548535 -0.94938811 -0.41917873 -0.11153883 -0.53474351\n",
      " -0.51317402 -1.07684778]\n",
      "new learning weights: [ 0.84054521 -0.00301756 -0.04681888 -0.76779363 -0.88012428  1.05878661\n",
      " -0.47337938 -0.47266422 -0.26403189  0.60604308 -0.33793524 -0.38656502\n",
      "  0.59622544  2.35138987]\n",
      "new learning weights: [ 1.98189508  1.49866115  0.27913192 -0.80554886  0.33798151  2.30171437\n",
      " -0.46386042 -1.05770998 -0.16678474 -0.28099669  0.20271121  0.19999578\n",
      " -0.19403739 -1.22969188]\n",
      "------EXECUTE IN 4.036988735198975------\n"
     ]
    }
   ],
   "source": [
    "gd = GradientDescent(x, first_y, second_y, num_iterations= 10)\n",
    "gd.run()"
   ]
  },
  {
   "cell_type": "code",
   "execution_count": null,
   "id": "e09b9878-73a1-4f07-9403-5a53aa475938",
   "metadata": {},
   "outputs": [],
   "source": [
    "ga = GeneticAlgorithm(x, first_y, second_y, len(x[0]))\n",
    "ga.run()"
   ]
  },
  {
   "cell_type": "code",
   "execution_count": 12,
   "id": "8c67fa68-367f-4c13-b4b9-da0f609f2417",
   "metadata": {},
   "outputs": [
    {
     "name": "stdout",
     "output_type": "stream",
     "text": [
      "------START EXECUTE MLP------\n",
      "Epoch 1/10\n",
      "996/996 [==============================] - 2s 1ms/step - loss: 1.9746 - custom_accuracy_4: 0.9443\n",
      "Epoch 2/10\n",
      "996/996 [==============================] - 2s 2ms/step - loss: 1.0426 - custom_accuracy_4: 0.9583\n",
      "Epoch 3/10\n",
      "996/996 [==============================] - 2s 2ms/step - loss: 0.7977 - custom_accuracy_4: 0.9718\n",
      "Epoch 4/10\n",
      "996/996 [==============================] - 2s 2ms/step - loss: 0.6842 - custom_accuracy_4: 0.9754\n",
      "Epoch 5/10\n",
      "996/996 [==============================] - 2s 2ms/step - loss: 0.6022 - custom_accuracy_4: 0.9765\n",
      "Epoch 6/10\n",
      "996/996 [==============================] - 2s 2ms/step - loss: 0.5098 - custom_accuracy_4: 0.9766\n",
      "Epoch 7/10\n",
      "996/996 [==============================] - 2s 2ms/step - loss: 0.4239 - custom_accuracy_4: 0.9786\n",
      "Epoch 8/10\n",
      "996/996 [==============================] - 2s 2ms/step - loss: 0.3494 - custom_accuracy_4: 0.9810\n",
      "Epoch 9/10\n",
      "996/996 [==============================] - 2s 2ms/step - loss: 0.2906 - custom_accuracy_4: 0.9812\n",
      "Epoch 10/10\n",
      "996/996 [==============================] - 2s 2ms/step - loss: 0.2398 - custom_accuracy_4: 0.9814\n",
      "498/498 [==============================] - 1s 1ms/step\n",
      "------EXECUTE IN 20.072327613830566------\n"
     ]
    }
   ],
   "source": [
    "mlp = MLP(x, first_y, second_y)\n",
    "mlp.run(epochs=10)"
   ]
  },
  {
   "cell_type": "code",
   "execution_count": 13,
   "id": "0f4bd165-d160-4ebf-8bc7-e9ac15a596de",
   "metadata": {},
   "outputs": [],
   "source": [
    "import pandas as pd\n",
    "def count_samples(path_file):\n",
    "    df = pd.read_csv(path_file)\n",
    "    result = {\n",
    "        \"(0;0)\":{\"0\":0,\"1\":0,\"2\":0, \"3\":0, \"4\":0},\n",
    "        \"(0;1)\":{\"0\":0,\"1\":0,\"2\":0, \"3\":0, \"4\":0},\n",
    "        \"(1;1)\":{\"0\":0,\"1\":0,\"2\":0, \"3\":0, \"4\":0},\n",
    "        \"(1;2)\":{\"0\":0,\"1\":0,\"2\":0, \"3\":0, \"4\":0},\n",
    "        \"(2;2)\":{\"0\":0,\"1\":0,\"2\":0, \"3\":0, \"4\":0},\n",
    "        \"(2;3)\":{\"0\":0,\"1\":0,\"2\":0, \"3\":0, \"4\":0},\n",
    "        \"(3;3)\":{\"0\":0,\"1\":0,\"2\":0, \"3\":0, \"4\":0},\n",
    "        \"(3;4)\":{\"0\":0,\"1\":0,\"2\":0, \"3\":0, \"4\":0},\n",
    "        \"(4;4)\":{\"0\":0,\"1\":0,\"2\":0, \"3\":0, \"4\":0}\n",
    "    }\n",
    "    for index, row in df.iterrows():\n",
    "        label1 = int(row['first_y_test'])\n",
    "        label2 = int(row['second_y_test'])\n",
    "        label3 = int(row['predicted_labels'])\n",
    "        key = f'({label1};{label2})'\n",
    "        result[key][f\"{label3}\"] += 1\n",
    "    return result\n",
    "\n",
    "def calculate_precision_recall_f1(path_file):\n",
    "    labels = ['0', '1', '2', '3', '4']\n",
    "    samples = count_samples(path_file)\n",
    "    result = {}\n",
    "    total_true = 0\n",
    "    total_items = sum([sum(list(value.values())) for key, value in samples.items()])\n",
    "    for label in labels:\n",
    "        tp, fp, fn, tn = 0, 0, 0, 0\n",
    "        for key, value in samples.items(): \n",
    "            if label in key:\n",
    "                #true positive\n",
    "                tp += value[label]\n",
    "                #false nagative\n",
    "                fn += sum([value[i] for i in value if i!= label])\n",
    "            \n",
    "            if label not in key:\n",
    "                #true nagative:\n",
    "                tn += sum([value[i] for i in value if i!= label])\n",
    "                #false positive\n",
    "                fp += value[label]\n",
    "        result[label] = {\n",
    "            \"precision\": tp/(tp+fp),\n",
    "            \"recall\": tp/(tp+fn),\n",
    "            \"accuracy\": (tp+tn)/(tp+fn+tn+fp)\n",
    "        }\n",
    "        result[label][\"f1\"] = 2*result[label][\"precision\"]*result[label][\"recall\"]/(result[label][\"precision\"]+result[label][\"recall\"])\n",
    "        total_true += tp\n",
    "    result[\"average\"] = {\n",
    "        \"precision\": sum([value[\"precision\"] for key, value in result.items()])/5,\n",
    "        \"recall\": sum([value[\"recall\"] for key, value in result.items()])/5,\n",
    "        \"accuracy\": sum([value[\"accuracy\"] for key, value in result.items()])/5,\n",
    "        \"f1\": sum([value[\"f1\"] for key, value in result.items()])/5,\n",
    "    }\n",
    "    result['accuracy'] = total_true/total_items\n",
    "    return result\n",
    "    "
   ]
  },
  {
   "cell_type": "code",
   "execution_count": 14,
   "id": "734c9d40-44b0-4924-83c7-10416abcf2e0",
   "metadata": {},
   "outputs": [
    {
     "data": {
      "text/plain": [
       "{'0': {'precision': 0.7735849056603774,\n",
       "  'recall': 0.22905027932960895,\n",
       "  'accuracy': 0.9905843952043186,\n",
       "  'f1': 0.35344827586206895},\n",
       " '1': {'precision': 0.990513439294333,\n",
       "  'recall': 0.9786236948121352,\n",
       "  'accuracy': 0.9765237587094344,\n",
       "  'f1': 0.9845326716294459},\n",
       " '2': {'precision': 0.944954128440367,\n",
       "  'recall': 0.7554209183673469,\n",
       "  'accuracy': 0.9431925177327224,\n",
       "  'f1': 0.8396243133085238},\n",
       " '3': {'precision': 0.8862179487179487,\n",
       "  'recall': 0.15055812687176695,\n",
       "  'accuracy': 0.7996987006465381,\n",
       "  'f1': 0.2573888759599721},\n",
       " '4': {'precision': 0.9178082191780822,\n",
       "  'recall': 0.9867452135493373,\n",
       "  'accuracy': 0.9956688217939865,\n",
       "  'f1': 0.9510290986515259},\n",
       " 'average': {'precision': 0.9026157282582215,\n",
       "  'recall': 0.6200796465860391,\n",
       "  'accuracy': 0.9411336388174,\n",
       "  'f1': 0.6772046470823073},\n",
       " 'accuracy': 0.9752055740380391}"
      ]
     },
     "execution_count": 14,
     "metadata": {},
     "output_type": "execute_result"
    }
   ],
   "source": [
    "calculate_precision_recall_f1(\"results/ga.csv\")"
   ]
  },
  {
   "cell_type": "code",
   "execution_count": 15,
   "id": "ef11a2c0-fce3-4076-aa6b-1a2022197e3b",
   "metadata": {},
   "outputs": [
    {
     "data": {
      "text/plain": [
       "{'0': {'precision': 0.9411764705882353,\n",
       "  'recall': 0.3575418994413408,\n",
       "  'accuracy': 0.9925302868620928,\n",
       "  'f1': 0.5182186234817814},\n",
       " '1': {'precision': 0.9982406166219839,\n",
       "  'recall': 0.9796102935131136,\n",
       "  'accuracy': 0.9831146820664114,\n",
       "  'f1': 0.9888377111083447},\n",
       " '2': {'precision': 0.9478150190920662,\n",
       "  'recall': 0.7123724489795918,\n",
       "  'accuracy': 0.9356600338961772,\n",
       "  'f1': 0.8133988712907336},\n",
       " '3': {'precision': 0.9730769230769231,\n",
       "  'recall': 0.41328614211815956,\n",
       "  'accuracy': 0.8620927750925867,\n",
       "  'f1': 0.5801643416778138},\n",
       " '4': {'precision': 0.9,\n",
       "  'recall': 0.013254786450662739,\n",
       "  'accuracy': 0.9578808612139853,\n",
       "  'f1': 0.026124818577648767},\n",
       " 'average': {'precision': 0.9520618058758418,\n",
       "  'recall': 0.4952131141005737,\n",
       "  'accuracy': 0.9462557278262507,\n",
       "  'f1': 0.5853488732272645},\n",
       " 'accuracy': 0.9880107965601657}"
      ]
     },
     "execution_count": 15,
     "metadata": {},
     "output_type": "execute_result"
    }
   ],
   "source": [
    "calculate_precision_recall_f1(\"results/mlp.csv\")"
   ]
  },
  {
   "cell_type": "code",
   "execution_count": 25,
   "id": "3f198199-d92a-4f25-95f9-b0eb59bf6f91",
   "metadata": {},
   "outputs": [
    {
     "data": {
      "text/plain": [
       "{'0': {'precision': 0.010029316463508717,\n",
       "  'recall': 0.36312849162011174,\n",
       "  'accuracy': 0.5901073378946707,\n",
       "  'f1': 0.019519519519519517},\n",
       " '1': {'precision': 0.9537110933758979,\n",
       "  'recall': 0.19649757461152675,\n",
       "  'accuracy': 0.3792605611700458,\n",
       "  'f1': 0.3258572499829573},\n",
       " '2': {'precision': 0.12910938433950986,\n",
       "  'recall': 0.06887755102040816,\n",
       "  'accuracy': 0.7252526520620175,\n",
       "  'f1': 0.08983156581409855},\n",
       " '3': {'precision': 0.19180633147113593,\n",
       "  'recall': 0.05608494418731282,\n",
       "  'accuracy': 0.7278890214048083,\n",
       "  'f1': 0.08679165788919317},\n",
       " '4': {'precision': 0.1617822253990946,\n",
       "  'recall': 1.0,\n",
       "  'accuracy': 0.7791726821919528,\n",
       "  'f1': 0.27850697292863},\n",
       " 'average': {'precision': 0.2892876702098294,\n",
       "  'recall': 0.3369177122878719,\n",
       "  'accuracy': 0.640336450944699,\n",
       "  'f1': 0.16010139322687972},\n",
       " 'accuracy': 0.22321260435628648}"
      ]
     },
     "execution_count": 25,
     "metadata": {},
     "output_type": "execute_result"
    }
   ],
   "source": [
    "calculate_precision_recall_f1(\"results/gd.csv\")"
   ]
  },
  {
   "cell_type": "code",
   "execution_count": 17,
   "id": "e33c9d8f-c644-4f7c-b8cd-ace4af2c9b2a",
   "metadata": {},
   "outputs": [
    {
     "data": {
      "text/plain": [
       "{'0': {'precision': 0.4327485380116959,\n",
       "  'recall': 0.4134078212290503,\n",
       "  'accuracy': 0.987320318875149,\n",
       "  'f1': 0.4228571428571428},\n",
       " '1': {'precision': 0.9799116445778111,\n",
       "  'recall': 0.96653786072515,\n",
       "  'accuracy': 0.9593245872826565,\n",
       "  'f1': 0.9731788079470198},\n",
       " '2': {'precision': 0.9271653543307087,\n",
       "  'recall': 0.7509566326530612,\n",
       "  'accuracy': 0.9393635051158119,\n",
       "  'f1': 0.8298097251585624},\n",
       " '3': {'precision': 0.9384615384615385,\n",
       "  'recall': 0.28233052001089026,\n",
       "  'accuracy': 0.8302680308831837,\n",
       "  'f1': 0.43407283382168266},\n",
       " '4': {'precision': 0.8135593220338984,\n",
       "  'recall': 0.14138438880706922,\n",
       "  'accuracy': 0.9620237273240851,\n",
       "  'f1': 0.2409033877038896},\n",
       " 'average': {'precision': 0.8183692794831305,\n",
       "  'recall': 0.5109234446850442,\n",
       "  'accuracy': 0.9356600338961772,\n",
       "  'f1': 0.5801643794976595},\n",
       " 'accuracy': 0.9615215617349822}"
      ]
     },
     "execution_count": 17,
     "metadata": {},
     "output_type": "execute_result"
    }
   ],
   "source": [
    "calculate_precision_recall_f1(\"results/adam.csv\")"
   ]
  },
  {
   "cell_type": "code",
   "execution_count": 36,
   "id": "e4b76b84-e5b3-4ff2-9ea6-cbe3c0f7236f",
   "metadata": {},
   "outputs": [],
   "source": [
    "import numpy as np\n",
    "import seaborn as sns\n",
    "import matplotlib.pylab as plt\n",
    "import pandas as pd\n",
    "def heat_map(input_dict):\n",
    "    df = pd.DataFrame(input_dict).fillna(0)\n",
    "    df_sorted = df.sort_index(ascending=False)\n",
    "    # Create heatmap\n",
    "    plt.figure(figsize=(16,5))\n",
    "    sns.heatmap(df_sorted, cmap=\"Blues\",vmin=0,annot=True, fmt=\"g\", annot_kws={\"size\": 14})\n",
    "    # Add labels and title\n",
    "    plt.rc('font', size=14)\n",
    "    plt.rcParams['font.weight'] = 'bold'\n",
    "    plt.xlabel(\"Pair Label\", fontweight='bold')\n",
    "    plt.ylabel(\"Label\", fontweight='bold')\n",
    "    plt.savefig('heatmap.png', dpi=100)\n",
    "    plt.show()\n",
    "data = {\n",
    "    \"(0;0)\":{\"0\":11,\"1\":0,\"2\":1, \"3\":0, \"4\":0},\n",
    "    \"(0;1)\":{\"0\":46,\"1\":644,\"2\":45, \"3\":14, \"4\":1},\n",
    "    \"(1;1)\":{\"0\":9,\"1\":17660,\"2\":40, \"3\":7, \"4\":5},\n",
    "    \"(1;2)\":{\"0\":0,\"1\":37,\"2\":35, \"3\":0, \"4\":0},\n",
    "    \"(2;2)\":{\"0\":1,\"1\":89,\"2\":3250, \"3\":9, \"4\":5},\n",
    "    \"(2;3)\":{\"0\":0,\"1\":78,\"2\":16, \"3\":73, \"4\":4},\n",
    "    \"(3;3)\":{\"0\":0,\"1\":28,\"2\":13, \"3\":298, \"4\":3},\n",
    "    \"(3;4)\":{\"0\":0,\"1\":43,\"2\":0, \"3\":237, \"4\":45},\n",
    "    \"(4;4)\":{\"0\":0,\"1\":12,\"2\":0, \"3\":67, \"4\":69}\n",
    "}\n",
    "def calculate_precision_recall_f1(data):\n",
    "    labels = ['0', '1', '2', '3', '4']\n",
    "    samples = data\n",
    "    result = {}\n",
    "    total_true = 0\n",
    "    total_items = sum([sum(list(value.values())) for key, value in samples.items()])\n",
    "    for label in labels:\n",
    "        tp, fp, fn, tn = 0, 0, 0, 0\n",
    "        for key, value in samples.items(): \n",
    "            if label in key:\n",
    "                #true positive\n",
    "                tp += value[label]\n",
    "                #false nagative\n",
    "                fn += sum([value[i] for i in value if i!= label])\n",
    "            \n",
    "            if label not in key:\n",
    "                #true nagative:\n",
    "                tn += sum([value[i] for i in value if i!= label])\n",
    "                #false positive\n",
    "                fp += value[label]\n",
    "        result[label] = {\n",
    "            \"precision\": tp/(tp+fp),\n",
    "            \"recall\": tp/(tp+fn),\n",
    "            \"accuracy\": (tp+tn)/(tp+fn+tn+fp)\n",
    "        }\n",
    "        result[label][\"f1\"] = 2*result[label][\"precision\"]*result[label][\"recall\"]/(result[label][\"precision\"]+result[label][\"recall\"])\n",
    "        total_true += tp\n",
    "    result[\"average\"] = {\n",
    "        \"precision\": sum([value[\"precision\"] for key, value in result.items()])/5,\n",
    "        \"recall\": sum([value[\"recall\"] for key, value in result.items()])/5,\n",
    "        \"accuracy\": sum([value[\"accuracy\"] for key, value in result.items()])/5,\n",
    "        \"f1\": sum([value[\"f1\"] for key, value in result.items()])/5,\n",
    "    }\n",
    "    result['accuracy'] = total_true/total_items\n",
    "    return result\n",
    "    "
   ]
  },
  {
   "cell_type": "code",
   "execution_count": 37,
   "id": "a5b2c6f3-88a6-442f-8074-1b96b5b3d3f7",
   "metadata": {},
   "outputs": [
    {
     "data": {
      "text/plain": [
       "{'0': {'precision': 0.8507462686567164,\n",
       "  'recall': 0.07480314960629922,\n",
       "  'accuracy': 0.9687704739025988,\n",
       "  'f1': 0.13751507840772018},\n",
       " '1': {'precision': 0.9865526329944597,\n",
       "  'recall': 0.9891064013374319,\n",
       "  'accuracy': 0.9802576981873772,\n",
       "  'f1': 0.9878278666451231},\n",
       " '2': {'precision': 0.9708823529411764,\n",
       "  'recall': 0.9177092021128719,\n",
       "  'accuracy': 0.9827473247433938,\n",
       "  'f1': 0.9435472345290838},\n",
       " '3': {'precision': 0.8624113475177305,\n",
       "  'recall': 0.7255369928400954,\n",
       "  'accuracy': 0.9857174055470627,\n",
       "  'f1': 0.7880751782242386},\n",
       " '4': {'precision': 0.8636363636363636,\n",
       "  'recall': 0.24101479915433405,\n",
       "  'accuracy': 0.9835335226031885,\n",
       "  'f1': 0.37685950413223146},\n",
       " 'average': {'precision': 0.9068457931492893,\n",
       "  'recall': 0.5896341090102065,\n",
       "  'accuracy': 0.9802052849967243,\n",
       "  'f1': 0.6467649723876795},\n",
       " 'accuracy': 0.9792967896920725}"
      ]
     },
     "execution_count": 37,
     "metadata": {},
     "output_type": "execute_result"
    }
   ],
   "source": [
    "calculate_precision_recall_f1(data)"
   ]
  },
  {
   "cell_type": "code",
   "execution_count": 35,
   "id": "2432ce03-8c53-4a19-ad75-32fa323ba873",
   "metadata": {},
   "outputs": [
    {
     "data": {
      "image/png": "[encoded data removed]",
      "text/plain": [
       "<Figure size 1600x500 with 2 Axes>"
      ]
     },
     "metadata": {},
     "output_type": "display_data"
    }
   ],
   "source": [
    "heat_map(data)"
   ]
  },
  {
   "cell_type": "code",
   "execution_count": null,
   "id": "eff40bbe-f0cb-4d83-8d4c-9c60fe784fc8",
   "metadata": {},
   "outputs": [],
   "source": []
  }
 ],
 "metadata": {
  "kernelspec": {
   "display_name": "Python 3 (ipykernel)",
   "language": "python",
   "name": "python3"
  },
  "language_info": {
   "codemirror_mode": {
    "name": "ipython",
    "version": 3
   },
   "file_extension": ".py",
   "mimetype": "text/x-python",
   "name": "python",
   "nbconvert_exporter": "python",
   "pygments_lexer": "ipython3",
   "version": "3.10.15"
  }
 },
 "nbformat": 4,
 "nbformat_minor": 5
}
